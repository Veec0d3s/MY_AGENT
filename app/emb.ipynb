{
 "cells": [
  {
   "cell_type": "code",
   "execution_count": 7,
   "id": "a6befbbf",
   "metadata": {},
   "outputs": [],
   "source": [
    "# Imports\n",
    "import os\n",
    "import json\n",
    "from langchain_community.embeddings import SentenceTransformerEmbeddings\n",
    "from langchain_community.vectorstores import Chroma\n",
    "from langchain.schema import Document\n"
   ]
  },
  {
   "cell_type": "code",
   "execution_count": null,
   "id": "f5a4fea8",
   "metadata": {},
   "outputs": [],
   "source": [
    "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"
   ]
  },
  {
   "cell_type": "code",
   "execution_count": 8,
   "id": "bb295bfc",
   "metadata": {},
   "outputs": [],
   "source": [
    "# Initialize embedding model\n",
    "embeddings = SentenceTransformerEmbeddings(model_name=\"all-MiniLM-L6-v2\")\n",
    "\n",
    "# Initialize or connect to Chroma database\n",
    "stories_db = Chroma(\n",
    "    collection_name=\"stories_db\",\n",
    "    embedding_function=embeddings,\n",
    "    persist_directory=\"stories_db\"\n",
    ")\n"
   ]
  },
  {
   "cell_type": "code",
   "execution_count": 9,
   "id": "e347ec13",
   "metadata": {},
   "outputs": [
    {
     "name": "stdout",
     "output_type": "stream",
     "text": [
      "✅ Loaded 159 stories from JSON files.\n"
     ]
    }
   ],
   "source": [
    "# Folder where your JSON stories are stored\n",
    "json_folder = \"./data\"  # <-- change this to your folder\n",
    "\n",
    "documents = []\n",
    "\n",
    "for filename in os.listdir(json_folder):\n",
    "    if filename.endswith(\".json\"):\n",
    "        filepath = os.path.join(json_folder, filename)\n",
    "        with open(filepath, \"r\", encoding=\"utf-8\") as f:\n",
    "            data = json.load(f)\n",
    "\n",
    "            # Case 1: file contains a list of stories\n",
    "            if isinstance(data, list):\n",
    "                for item in data:\n",
    "                    doc = Document(page_content=item.get(\"text\", \"\"))\n",
    "                    documents.append(doc)\n",
    "\n",
    "            # Case 2: file contains a single story object\n",
    "            elif isinstance(data, dict):\n",
    "                doc = Document(page_content=data.get(\"text\", \"\"))\n",
    "                documents.append(doc)\n",
    "print(f\"✅ Loaded {len(documents)} stories from JSON files.\")\n"
   ]
  },
  {
   "cell_type": "code",
   "execution_count": 10,
   "id": "73bd5a1e",
   "metadata": {},
   "outputs": [
    {
     "name": "stdout",
     "output_type": "stream",
     "text": [
      "📂 Stories before: 0\n",
      "📥 Added: 159\n",
      "📊 Total now in DB: 159\n"
     ]
    }
   ],
   "source": [
    "# 3. Add to Chroma\n",
    "# ----------------------------\n",
    "before_count = stories_db._collection.count()  # number of docs before adding\n",
    "stories_db.add_documents(documents)\n",
    "stories_db.persist()\n",
    "after_count = stories_db._collection.count()\n",
    "\n",
    "print(f\"📂 Stories before: {before_count}\")\n",
    "print(f\"📥 Added: {after_count - before_count}\")\n",
    "print(f\"📊 Total now in DB: {after_count}\")"
   ]
  },
  {
   "cell_type": "code",
   "execution_count": 11,
   "id": "6d075195",
   "metadata": {},
   "outputs": [
    {
     "name": "stdout",
     "output_type": "stream",
     "text": [
      "\n",
      "Story 1: ...\n",
      "\n",
      "Story 2: ...\n"
     ]
    }
   ],
   "source": [
    "query = \"Tell me a story about resilience\"\n",
    "results = stories_db.similarity_search(query, k=2)\n",
    "\n",
    "for i, res in enumerate(results, 1):\n",
    "    print(f\"\\nStory {i}: {res.page_content[:200]}...\")\n"
   ]
  }
 ],
 "metadata": {
  "kernelspec": {
   "display_name": "rag-env",
   "language": "python",
   "name": "python3"
  },
  "language_info": {
   "codemirror_mode": {
    "name": "ipython",
    "version": 3
   },
   "file_extension": ".py",
   "mimetype": "text/x-python",
   "name": "python",
   "nbconvert_exporter": "python",
   "pygments_lexer": "ipython3",
   "version": "3.11.8"
  }
 },
 "nbformat": 4,
 "nbformat_minor": 5
}
