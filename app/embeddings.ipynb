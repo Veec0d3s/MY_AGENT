{
 "cells": [
  {
   "cell_type": "markdown",
   "id": "4c3ca99e",
   "metadata": {},
   "source": [
    "EMBEDDINGS TO FETCH THE STORIES\n"
   ]
  },
  {
   "cell_type": "code",
   "execution_count": 1,
   "id": "383ffbca",
   "metadata": {},
   "outputs": [],
   "source": [
    "import json\n",
    "from pathlib import Path\n",
    "from langchain.embeddings.openai import OpenAIEmbeddings\n",
    "from langchain.vectorstores import Chroma"
   ]
  },
  {
   "cell_type": "code",
   "execution_count": 2,
   "id": "50d87231",
   "metadata": {},
   "outputs": [
    {
     "name": "stdout",
     "output_type": "stream",
     "text": [
      "Loaded 72 stories.\n"
     ]
    }
   ],
   "source": [
    "import json\n",
    "\n",
    "def load_json(file_path, type_name):\n",
    "    with open(file_path, \"r\", encoding=\"utf-8\") as f:\n",
    "        data = json.load(f)\n",
    "        for entry in data:\n",
    "            entry[\"type\"] = type_name\n",
    "        return data\n",
    "\n",
    "# Example: loading legends\n",
    "legends = load_json(\"data/legends.json\", \"legend\")\n",
    "short_stories = load_json(\"data/short_stories.json\", \"short_story\")\n",
    "\n",
    "all_stories = legends + short_stories\n",
    "\n",
    "print(f\"Loaded {len(all_stories)} stories.\")\n"
   ]
  },
  {
   "cell_type": "code",
   "execution_count": 3,
   "id": "01e1fe9a",
   "metadata": {},
   "outputs": [],
   "source": [
    "texts = [f\"{s['title']}\\n{s['narration']}\\nLesson: {s['lesson']}\" for s in all_stories]\n",
    "metadatas = [{\"title\": s[\"title\"], \"type\": s[\"type\"], \"lesson\": s[\"lesson\"]} for s in all_stories]\n"
   ]
  },
  {
   "cell_type": "code",
   "execution_count": 5,
   "id": "16536a0b",
   "metadata": {},
   "outputs": [
    {
     "name": "stderr",
     "output_type": "stream",
     "text": [
      "c:\\Users\\General Happiness\\Desktop\\MY_AGENT\\rag-env\\Lib\\site-packages\\tqdm\\auto.py:21: TqdmWarning: IProgress not found. Please update jupyter and ipywidgets. See https://ipywidgets.readthedocs.io/en/stable/user_install.html\n",
      "  from .autonotebook import tqdm as notebook_tqdm\n"
     ]
    },
    {
     "name": "stdout",
     "output_type": "stream",
     "text": [
      "✅ Embeddings created & saved safely in 'story_db/'.\n"
     ]
    }
   ],
   "source": [
    "#from langchain.embeddings import HuggingFaceEmbeddings\n",
    "from langchain_huggingface import HuggingFaceEmbeddings\n",
    "from langchain.vectorstores import Chroma\n",
    "\n",
    "# Initialize Hugging Face embeddings\n",
    "embeddings = HuggingFaceEmbeddings(model_name=\"all-MiniLM-L6-v2\")\n",
    "\n",
    "# Ensure all metadata values are strings, numbers, bool, or None\n",
    "def sanitize_metadata(meta):\n",
    "    sanitized = {}\n",
    "    for k, v in meta.items():\n",
    "        if isinstance(v, list):\n",
    "            sanitized[k] = \" | \".join(str(i) for i in v)  # convert list to string\n",
    "        elif isinstance(v, dict):\n",
    "            sanitized[k] = str(v)  # convert dict to string\n",
    "        else:\n",
    "            sanitized[k] = v\n",
    "    return sanitized\n",
    "\n",
    "sanitized_metadatas = [sanitize_metadata(m) for m in metadatas]\n",
    "\n",
    "# Create or load the Chroma vectorstore\n",
    "vectorstore = Chroma.from_texts(\n",
    "    texts,\n",
    "    embeddings,\n",
    "    metadatas=sanitized_metadatas,\n",
    "    persist_directory=\"story_db\"\n",
    ")\n",
    "\n",
    "print(\"✅ Embeddings created & saved safely in 'story_db/'.\")\n"
   ]
  },
  {
   "cell_type": "code",
   "execution_count": 7,
   "id": "abfd69c8",
   "metadata": {},
   "outputs": [
    {
     "name": "stdout",
     "output_type": "stream",
     "text": [
      "📖 The Story of Courageous Nakku (legend)\n",
      "The Story of Courageous Nakku\n",
      "Long ago, in a village surrounded by thick forests and wide grasslands, there lived a young woman named Nakku. She was known among her people for her quiet strength, though she was not one to boast about it.\n",
      "\n",
      "One season, a terrible famine struck the land. Mothers cried  ...\n",
      "\n",
      "📖 The Story of Courageous Nakku (legend)\n",
      "The Story of Courageous Nakku\n",
      "Long ago, in a village surrounded by thick forests and wide grasslands, there lived a young woman named Nakku. She was known among her people for her quiet strength, though she was not one to boast about it.\n",
      "\n",
      "One season, a terrible famine struck the land. Mothers cried  ...\n",
      "\n"
     ]
    }
   ],
   "source": [
    "query = \"a story about bravery\"\n",
    "results = vectorstore.similarity_search(query, k=2)\n",
    "\n",
    "for r in results:\n",
    "    print(f\"📖 {r.metadata['title']} ({r.metadata['type']})\")\n",
    "    print(r.page_content[:300], \"...\\n\")\n"
   ]
  }
 ],
 "metadata": {
  "kernelspec": {
   "display_name": "rag-env",
   "language": "python",
   "name": "python3"
  },
  "language_info": {
   "codemirror_mode": {
    "name": "ipython",
    "version": 3
   },
   "file_extension": ".py",
   "mimetype": "text/x-python",
   "name": "python",
   "nbconvert_exporter": "python",
   "pygments_lexer": "ipython3",
   "version": "3.11.8"
  }
 },
 "nbformat": 4,
 "nbformat_minor": 5
}
