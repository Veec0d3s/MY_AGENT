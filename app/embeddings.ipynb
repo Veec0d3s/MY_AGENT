{
 "cells": [
  {
   "cell_type": "markdown",
   "id": "4c3ca99e",
   "metadata": {},
   "source": [
    "EMBEDDINGS TO FETCH THE STORIES\n"
   ]
  },
  {
   "cell_type": "code",
   "execution_count": 50,
   "id": "383ffbca",
   "metadata": {},
   "outputs": [],
   "source": [
    "import json\n",
    "from pathlib import Path\n",
    "from langchain.embeddings.openai import OpenAIEmbeddings\n",
    "from langchain.vectorstores import Chroma"
   ]
  },
  {
   "cell_type": "code",
   "execution_count": 51,
   "id": "50d87231",
   "metadata": {},
   "outputs": [
    {
     "name": "stdout",
     "output_type": "stream",
     "text": [
      "Loaded 72 stories.\n"
     ]
    }
   ],
   "source": [
    "import json\n",
    "\n",
    "def load_json(file_path, type_name):\n",
    "    with open(file_path, \"r\", encoding=\"utf-8\") as f:\n",
    "        data = json.load(f)\n",
    "        for entry in data:\n",
    "            entry[\"type\"] = type_name\n",
    "        return data\n",
    "\n",
    "# Example: loading legends\n",
    "legends = load_json(\"data/legends.json\", \"legend\")\n",
    "short_stories = load_json(\"data/short_stories.json\", \"short_story\")\n",
    "\n",
    "all_stories = legends + short_stories\n",
    "\n",
    "print(f\"Loaded {len(all_stories)} stories.\")\n"
   ]
  },
  {
   "cell_type": "code",
   "execution_count": 52,
   "id": "01e1fe9a",
   "metadata": {},
   "outputs": [],
   "source": [
    "texts = [f\"{s['title']}\\n{s['narration']}\\nLesson: {s['lesson']}\" for s in all_stories]\n",
    "metadatas = [{\"title\": s[\"title\"], \"type\": s[\"type\"], \"lesson\": s[\"lesson\"]} for s in all_stories]\n"
   ]
  },
  {
   "cell_type": "code",
   "execution_count": 54,
   "id": "16536a0b",
   "metadata": {},
   "outputs": [
    {
     "name": "stdout",
     "output_type": "stream",
     "text": [
      "✅ Embeddings created & saved safely in 'story_db/'.\n"
     ]
    }
   ],
   "source": [
    "from langchain.embeddings import HuggingFaceEmbeddings\n",
    "from langchain.vectorstores import Chroma\n",
    "\n",
    "# Initialize Hugging Face embeddings\n",
    "embeddings = HuggingFaceEmbeddings(model_name=\"all-MiniLM-L6-v2\")\n",
    "\n",
    "# Ensure all metadata values are strings, numbers, bool, or None\n",
    "def sanitize_metadata(meta):\n",
    "    sanitized = {}\n",
    "    for k, v in meta.items():\n",
    "        if isinstance(v, list):\n",
    "            sanitized[k] = \" | \".join(str(i) for i in v)  # convert list to string\n",
    "        elif isinstance(v, dict):\n",
    "            sanitized[k] = str(v)  # convert dict to string\n",
    "        else:\n",
    "            sanitized[k] = v\n",
    "    return sanitized\n",
    "\n",
    "sanitized_metadatas = [sanitize_metadata(m) for m in metadatas]\n",
    "\n",
    "# Create or load the Chroma vectorstore\n",
    "vectorstore = Chroma.from_texts(\n",
    "    texts,\n",
    "    embeddings,\n",
    "    metadatas=sanitized_metadatas,\n",
    "    persist_directory=\"story_db\"\n",
    ")\n",
    "\n",
    "print(\"✅ Embeddings created & saved safely in 'story_db/'.\")\n"
   ]
  },
  {
   "cell_type": "code",
   "execution_count": 57,
   "id": "abfd69c8",
   "metadata": {},
   "outputs": [
    {
     "name": "stdout",
     "output_type": "stream",
     "text": [
      "📖 The Goat and the Goatherd (short_story)\n",
      "The Goat and the Goatherd\n",
      "A Goatherd drove his flock into a cave during a storm. Inside, he found some wild Goats and shut them in with his own. He fed the wild Goats better, hoping they would stay. When the storm ended, they ran away, saying, “If you betray your own goats for us, how can we trust y ...\n",
      "\n",
      "📖 The Ass in the Lion’s Skin (short_story)\n",
      "The Ass in the Lion’s Skin\n",
      "A foolish Ass once found a Lion’s skin and put it on. Proud of his disguise, he wandered through the forest, frightening all the animals. But when he brayed loudly, the Fox laughed and said, “If you had held your tongue, you might have frightened me too. But your voice bet ...\n",
      "\n"
     ]
    }
   ],
   "source": [
    "query = \"a story about betrayal\"\n",
    "results = vectorstore.similarity_search(query, k=2)\n",
    "\n",
    "for r in results:\n",
    "    print(f\"📖 {r.metadata['title']} ({r.metadata['type']})\")\n",
    "    print(r.page_content[:300], \"...\\n\")\n"
   ]
  }
 ],
 "metadata": {
  "kernelspec": {
   "display_name": "venv",
   "language": "python",
   "name": "python3"
  },
  "language_info": {
   "codemirror_mode": {
    "name": "ipython",
    "version": 3
   },
   "file_extension": ".py",
   "mimetype": "text/x-python",
   "name": "python",
   "nbconvert_exporter": "python",
   "pygments_lexer": "ipython3",
   "version": "3.13.5"
  }
 },
 "nbformat": 4,
 "nbformat_minor": 5
}
